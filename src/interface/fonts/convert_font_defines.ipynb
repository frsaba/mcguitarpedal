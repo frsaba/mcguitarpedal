{
 "cells": [
  {
   "cell_type": "code",
   "execution_count": 24,
   "metadata": {},
   "outputs": [],
   "source": [
    "icons = \"\"\"headphones f025\n",
    "droplet f043\n",
    "percent 25\n",
    "users-line e592 #voices\n",
    "arrows-left-right-to-line e4ba #length\n",
    "up-down f338 #depth\n",
    "wave_square f83e\n",
    "arrow-down-wide-short f160 #damping\"\"\""
   ]
  },
  {
   "cell_type": "code",
   "execution_count": 25,
   "metadata": {},
   "outputs": [],
   "source": [
    "import codecs\n",
    "def hex_to_utf8(hex : str):\n",
    "    codepoint = int(hex, 16)\n",
    "    \n",
    "    # Convert the codepoint to a UTF-8 encoded byte string\n",
    "    utf8_bytes = codecs.encode(chr(codepoint), 'utf-8')\n",
    "    \n",
    "    # Format the byte string into \\x escaped format\n",
    "    return ''.join(f'\\\\x{byte:02X}' for byte in utf8_bytes)"
   ]
  },
  {
   "cell_type": "code",
   "execution_count": 26,
   "metadata": {},
   "outputs": [],
   "source": [
    "def format_name(name : str):\n",
    "    return name.upper().replace(\"-\", \"_\")"
   ]
  },
  {
   "cell_type": "code",
   "execution_count": 27,
   "metadata": {},
   "outputs": [
    {
     "data": {
      "text/plain": [
       "[('headphones', 'f025'),\n",
       " ('droplet', 'f043'),\n",
       " ('percent', '25'),\n",
       " ('users-line', 'e592'),\n",
       " ('arrows-left-right-to-line', 'e4ba'),\n",
       " ('up-down', 'f338'),\n",
       " ('wave_square', 'f83e'),\n",
       " ('arrow-down-wide-short', 'f160')]"
      ]
     },
     "execution_count": 27,
     "metadata": {},
     "output_type": "execute_result"
    }
   ],
   "source": [
    "icon_name_value = [(line.split()[0],line.split()[1]) for line in icons.splitlines()]\n",
    "icon_name_value"
   ]
  },
  {
   "cell_type": "code",
   "execution_count": 28,
   "metadata": {},
   "outputs": [
    {
     "name": "stdout",
     "output_type": "stream",
     "text": [
      "#define CUSTOM_SYMBOL_HEADPHONES \"\\xEF\\x80\\xA5\"\n",
      "#define CUSTOM_SYMBOL_DROPLET \"\\xEF\\x81\\x83\"\n",
      "#define CUSTOM_SYMBOL_PERCENT \"\\x25\"\n",
      "#define CUSTOM_SYMBOL_USERS_LINE \"\\xEE\\x96\\x92\"\n",
      "#define CUSTOM_SYMBOL_ARROWS_LEFT_RIGHT_TO_LINE \"\\xEE\\x92\\xBA\"\n",
      "#define CUSTOM_SYMBOL_UP_DOWN \"\\xEF\\x8C\\xB8\"\n",
      "#define CUSTOM_SYMBOL_WAVE_SQUARE \"\\xEF\\xA0\\xBE\"\n",
      "#define CUSTOM_SYMBOL_ARROW_DOWN_WIDE_SHORT \"\\xEF\\x85\\xA0\"\n"
     ]
    }
   ],
   "source": [
    "defines = [f'#define CUSTOM_SYMBOL_{format_name(name)} \"{hex_to_utf8(value)}\"' for name, value in icon_name_value]\n",
    "for d in defines:\n",
    "    print(d)"
   ]
  }
 ],
 "metadata": {
  "kernelspec": {
   "display_name": "Python 3",
   "language": "python",
   "name": "python3"
  },
  "language_info": {
   "codemirror_mode": {
    "name": "ipython",
    "version": 3
   },
   "file_extension": ".py",
   "mimetype": "text/x-python",
   "name": "python",
   "nbconvert_exporter": "python",
   "pygments_lexer": "ipython3",
   "version": "3.11.0"
  }
 },
 "nbformat": 4,
 "nbformat_minor": 2
}
